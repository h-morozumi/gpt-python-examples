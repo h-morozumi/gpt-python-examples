{
 "cells": [
  {
   "cell_type": "markdown",
   "metadata": {},
   "source": [
    "# Managed ID を使った認証\n",
    "\n",
    "## 参考サイト\n",
    "[Azure OpenAI ServiceでAzure AD認証を使用してGPTモデルにアクセスする - JBS Tech Blog](https://blog.jbs.co.jp/entry/2023/05/09/103124)\n",
    "\n",
    "`Azure AD` を使った認証の事前準備は、上記サイトを参考にしてください。"
   ]
  },
  {
   "cell_type": "code",
   "execution_count": 14,
   "metadata": {},
   "outputs": [],
   "source": [
    "import openai\n",
    "import os\n",
    "from azure.identity import DefaultAzureCredential"
   ]
  },
  {
   "cell_type": "markdown",
   "metadata": {},
   "source": [
    "## 必要な情報を設定"
   ]
  },
  {
   "cell_type": "code",
   "execution_count": 15,
   "metadata": {},
   "outputs": [],
   "source": [
    "os.environ[\"AZURE_OPENAI_ENDPOINT\"] = input(\"Enter your endpoint: \")\n",
    "deployment_name = input(\"Enter your deployment name: \")\n",
    "os.environ[\"AZURE_CLIENT_ID\"] = input(\"Enter your client id: \")\n",
    "os.environ[\"AZURE_CLIENT_SECRET\"] = input(\"Enter your client secret: \")\n",
    "os.environ[\"AZURE_TENANT_ID\"] = input(\"Enter your tenant id: \")"
   ]
  },
  {
   "cell_type": "markdown",
   "metadata": {},
   "source": [
    "## トークンを取得"
   ]
  },
  {
   "cell_type": "code",
   "execution_count": 16,
   "metadata": {},
   "outputs": [],
   "source": [
    "# Request credential\n",
    "default_credential = DefaultAzureCredential()\n",
    "token = default_credential.get_token(\"https://cognitiveservices.azure.com/.default\")\n"
   ]
  },
  {
   "cell_type": "markdown",
   "metadata": {},
   "source": [
    "## Azure AD を使った認証方式をパラメータで設定\n",
    "\n",
    "- `openai.api_type` に `azure_ad` を設定する\n",
    "- `openai.api_key` に `token` を設定する"
   ]
  },
  {
   "cell_type": "code",
   "execution_count": 17,
   "metadata": {},
   "outputs": [
    {
     "name": "stdout",
     "output_type": "stream",
     "text": [
      "{\n",
      "  \"id\": \"chatcmpl-7c8YCU6XLpLrvh0Ouiu3u7k35g5Ex\",\n",
      "  \"object\": \"chat.completion\",\n",
      "  \"created\": 1689323688,\n",
      "  \"model\": \"gpt-35-turbo\",\n",
      "  \"choices\": [\n",
      "    {\n",
      "      \"index\": 0,\n",
      "      \"finish_reason\": \"stop\",\n",
      "      \"message\": {\n",
      "        \"role\": \"assistant\",\n",
      "        \"content\": \"Yes, most Azure Cognitive Services also support customer managed keys. However, it's always a good idea to check the documentation for the specific service you are interested in to confirm their support for customer managed keys.\"\n",
      "      }\n",
      "    }\n",
      "  ],\n",
      "  \"usage\": {\n",
      "    \"completion_tokens\": 41,\n",
      "    \"prompt_tokens\": 59,\n",
      "    \"total_tokens\": 100\n",
      "  }\n",
      "}\n"
     ]
    }
   ],
   "source": [
    "openai.api_key = token.token\n",
    "openai.api_base = os.getenv(\"AZURE_OPENAI_ENDPOINT\") # your endpoint should look like the following https://YOUR_RESOURCE_NAME.openai.azure.com/\n",
    "openai.api_type = \"azure_ad\"\n",
    "openai.api_version = '2023-05-15' # this may change in the future\n",
    "\n",
    "response = openai.ChatCompletion.create(\n",
    "  deployment_id = deployment_name,\n",
    "  messages = [\n",
    "        {\"role\": \"system\", \"content\": \"You are a helpful assistant.\"},\n",
    "        {\"role\": \"user\", \"content\": \"Does Azure OpenAI support customer managed keys?\"},\n",
    "        {\"role\": \"assistant\", \"content\": \"Yes, customer managed keys are supported by Azure OpenAI.\"},\n",
    "        {\"role\": \"user\", \"content\": \"Do other Azure Cognitive Services support this too?\"}\n",
    "    ]\n",
    ")\n",
    "\n",
    "print(response)"
   ]
  }
 ],
 "metadata": {
  "kernelspec": {
   "display_name": ".venv",
   "language": "python",
   "name": "python3"
  },
  "language_info": {
   "codemirror_mode": {
    "name": "ipython",
    "version": 3
   },
   "file_extension": ".py",
   "mimetype": "text/x-python",
   "name": "python",
   "nbconvert_exporter": "python",
   "pygments_lexer": "ipython3",
   "version": "3.10.12"
  },
  "orig_nbformat": 4
 },
 "nbformat": 4,
 "nbformat_minor": 2
}
