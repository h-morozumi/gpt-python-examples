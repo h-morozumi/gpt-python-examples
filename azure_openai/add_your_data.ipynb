{
 "cells": [
  {
   "cell_type": "markdown",
   "metadata": {},
   "source": [
    "# 独自のデータを使用して Azure OpenAI モデルとチャットする (Add your Data)\n",
    "\n",
    "[Azure OpenAI サービスで独自のデータを使用する - Azure OpenAI | Microsoft Learn](https://learn.microsoft.com/ja-jp/azure/cognitive-services/openai/use-your-data-quickstart?tabs=command-line&pivots=rest-api)\n",
    "\n",
    "`Add your data` は `2023/07/13` 現在、`Azure OpenAI Serivce` 固有のAPIになります。そのため、`Python` の `OpenAI SDK` では対応していないため、`REST API` として呼び出す方法を記載しました。\n",
    "\n",
    "## 前提条件\n",
    "- `Azure` のサブスクリプションがあること\n",
    "- `Azure OpenAI Serivce` が設定されていること\n",
    "- `Azure Cognitive Search` インデックスを作成していること"
   ]
  },
  {
   "cell_type": "code",
   "execution_count": 28,
   "metadata": {},
   "outputs": [],
   "source": [
    "import os\n",
    "import requests\n",
    "import json"
   ]
  },
  {
   "cell_type": "markdown",
   "metadata": {},
   "source": [
    "## 必要な情報を設定します\n",
    "\n",
    "`Azure OpenAI Service` と `Azure Cognitive Service` の設定を行います。\n",
    "\n",
    "| 変数名 | 値 |\n",
    "| ------ | -- |\n",
    "| AOAIEndpoint |この値は、Azure portal から Azure OpenAI リソースを確認する際に、[Keys & Endpoint] (キーとエンドポイント) セクションで確認することができます。 または、Azure AI Studio>[チャット プレイグラウンド]>[コード ビュー] で値を確認することもできます。 エンドポイントの例: https://my-resoruce.openai.azure.com。|\n",
    "| AOAIKey |この値は、Azure portal から Azure OpenAI リソースを確認する際に、[Keys & Endpoint] (キーとエンドポイント) セクションで確認することができます。 KEY1 または KEY2 を使用できます。 常に 2 つのキーを用意しておくと、サービスを中断させることなく、キーのローテーションと再生成を安全に行うことができます。|\n",
    "| AOAIDeploymentId |この値は、モデルのデプロイ時にデプロイに対して選択したカスタム名に対応します。 この値は、Azure portal の [リソース管理]>[デプロイ] または Azure AI Studio の [管理]>[デプロイ] で確認できます。|\n",
    "| ChatGptUrl |要求を満たすために使用される Azure OpenAI ChatGPT エンドポイント。 これは AoAIEndpoint と同じエンドポイントにすることができます。|\n",
    "| ChatGptKey |ChatGptUrl と AOAIEndpoint の両方に同じ Azure OpenAI リソースを使用している場合は、AOAIKey と同じ値を使用します。|\n",
    "| SearchEndpoint |この値は、Azure portal から Azure Cognitive Search リソースを確認する際に、[Keys & Endpoint] (キーとエンドポイント) セクションで確認することができます。|\n",
    "| SearchKey |この値は、Azure portal から Azure Cognitive Search リソースを確認する際に、[Keys & Endpoint] (キーとエンドポイント) セクションで確認することができます。 KEY1 または KEY2 を使用できます。 常に 2 つのキーを用意しておくと、サービスを中断させることなく、キーのローテーションと再生成を安全に行うことができます。|\n",
    "| SearchIndex |この値は、データを格納するために作成したインデックスの名前に対応します。 Azure portal から Azure Cognitive Search リソースを調べる場合は、[概要] セクションで確認できます。|"
   ]
  },
  {
   "cell_type": "code",
   "execution_count": 29,
   "metadata": {},
   "outputs": [],
   "source": [
    "AOAIKey = input(\"Enter your API key: \")\n",
    "AOAIEndpoint = input(\"Enter your endpoint: \")\n",
    "AOAIDeploymentId = input(\"Enter your deployment name: \")\n",
    "ChatGptUrl = AOAIEndpoint\n",
    "ChatGptKey = AOAIKey\n",
    "SearchEndpoint = input(\"Enter your Cognitive Search endpoint: \")\n",
    "SearchKey = input(\"Enter your Cognitive Search API key: \")\n",
    "SearchIndex = input(\"Enter your Cognitive Search index: \")"
   ]
  },
  {
   "cell_type": "markdown",
   "metadata": {},
   "source": [
    "## URLを組み立てる\n",
    "\n",
    "現在サポートされているバージョンは `2023-06-01-preview` のみとなります。"
   ]
  },
  {
   "cell_type": "code",
   "execution_count": 30,
   "metadata": {},
   "outputs": [],
   "source": [
    "api_key = AOAIKey\n",
    "api_base = AOAIEndpoint\n",
    "api_version = '2023-06-01-preview'\n",
    "deployment_name = AOAIDeploymentId\n",
    "\n",
    "url = f\"{api_base}openai/deployments/{deployment_name}/extensions/chat/completions?api-version={api_version}\"\n",
    "\n",
    "#print(url)"
   ]
  },
  {
   "cell_type": "markdown",
   "metadata": {},
   "source": [
    "## ヘッダを組み立てる"
   ]
  },
  {
   "cell_type": "code",
   "execution_count": 31,
   "metadata": {},
   "outputs": [],
   "source": [
    "chatgpt_url = ChatGptUrl\n",
    "chatgpt_key = ChatGptKey\n",
    "\n",
    "headers = {\n",
    "    \"Content-Type\": \"application/json\",\n",
    "    \"api-key\": api_key,\n",
    "    \"chatgpt_url\": chatgpt_url,\n",
    "    \"chatgpt_key\": chatgpt_key,\n",
    "}\n",
    "\n",
    "#print(json.dumps(headers, indent=4))"
   ]
  },
  {
   "cell_type": "markdown",
   "metadata": {},
   "source": [
    "## パラメータを組み立てます\n",
    "\n",
    "### パラメータ\n",
    "\n",
    "| パラメーター | Type | 必須 | Default | 説明 | \n",
    "| ------------ | ---- | ---- | ------- | ---- |\n",
    "| messages | array | 必須 | null | チャット形式でチャット入力候補を生成するメッセージ。 | \n",
    "| dataSources | array | 必須 |  | データ特徴量で Azure OpenAI に使用するデータ ソース。 | \n",
    "| temperature | number | オプション | 0 | 使用するサンプリング温度 (0 から 2)。 0.8 のような大きい値にすると、出力はよりランダムになり、0.2 のような小さい値にすると、出力はより集中的および決定論的になります。 一般に、これと top_p の両方ではなく、いずれかを変更することをお勧めします。 | \n",
    "| top_p | number | オプション | 1 | 核サンプリングと呼ばれる、温度によるサンプリングの代替の場合、モデルでは top_p 確率質量を持つトークンの結果が考慮されます。 したがって、0.1 は、上位 10% の確率質量を含むトークンのみが考慮されることを意味します。 一般的に、これと temperature の両方ではなく、いずれかを変更することをお勧めします。 | \n",
    "| stream | boolean | 省略可能 | false | 設定すると、ChatGPT と同様に部分的なメッセージ デルタが送信されます。 トークンは、使用可能になると data-only server-sent イベントとして送信され、ストリームは \"messages\": [{\"delta\": {\"content\": \"[DONE]\"}, \"index\": 2, \"end_turn\": true}] メッセージで終了します。 | \n",
    "| stop | 文字列または配列 | オプション | null | API がそれ以上のトークンの生成を停止する、最大 2 つのシーケンス。 | \n",
    "| max_tokens | 整数 (integer) | 省略可能 | 1000 | 生成された回答に許可されるトークンの最大数。 既定では、モデルが返すことができるトークンの数は 4096 - prompt_tokens になります。|\n",
    "\n",
    "### dataSources 内の parameters フィールド\n",
    "\n",
    "| パラメーター | Type | 必須 | Default | 説明 |\n",
    "| ------------ | ---- | ---- | ------- | ---- | \n",
    "| type | string | 必須 | null | データ特徴量で Azure OpenAI に使用するデータ ソース。 Azure Cognitive Search の場合、値は AzureCognitiveSearch です。 | \n",
    "| endpoint | string | 必須 | null | データ ソース エンドポイント。 | \n",
    "| key | string | 必須 | null | サービスの Azure Cognitive Search 管理者キーの 1 つ。 | \n",
    "| indexName | string | 必須 | null | 使用する検索インデックス。 | \n",
    "| fieldsMapping | ディクショナリ | オプション | null | インデックス データ列マッピング。 | \n",
    "| inScope | boolean | 省略可能 | true | 設定した場合、この値によって、根拠付けるデータ コンテンツに固有の応答が制限されます。 | \n",
    "| topNDocuments | number | オプション | 5 | ドキュメント拡張のためにフェッチする必要があるドキュメントの数。 | \n",
    "| queryType | string | 省略可能 | simple | Azure Cognitive Search に使用するクエリ オプションを示します。 | \n",
    "| semanticConfiguration | string | 省略可能 | null | セマンティック検索の構成。 queryType が semantic に設定されている場合にのみ使用できます。 | \n",
    "| roleInformation | string | 省略可能 | null | どう振る舞うべきかに関する指示と、応答の生成時に参照する必要があるコンテキストをモデルに渡します。 Azure OpenAI Studio の \"システム メッセージ\" に相当します。 トークン制限 100 が存在し、全体的なトークン制限に反映されます。 | \n",
    "\n"
   ]
  },
  {
   "cell_type": "code",
   "execution_count": 32,
   "metadata": {},
   "outputs": [],
   "source": [
    "cognitive_search_endpoint = SearchEndpoint\n",
    "cognitive_search_api_key = SearchKey\n",
    "cognitive_search_index = SearchIndex\n",
    "\n",
    "data = {\n",
    "    \"messages\": [\n",
    "        {\n",
    "            \"role\": \"user\",\n",
    "            \"content\": \"What are the differences between Azure Machine Learning and Azure Cognitive Services?\"\n",
    "        }\n",
    "    ],\n",
    "    \"dataSources\": [\n",
    "        {\n",
    "            \"type\": \"AzureCognitiveSearch\",\n",
    "            \"parameters\": {\n",
    "                \"endpoint\": cognitive_search_endpoint,\n",
    "                \"key\": cognitive_search_api_key,\n",
    "                \"indexName\": cognitive_search_index\n",
    "            }\n",
    "        }\n",
    "    ]\n",
    "}\n",
    "\n",
    "#print(json.dumps(data, indent=4))"
   ]
  },
  {
   "cell_type": "markdown",
   "metadata": {},
   "source": [
    "## 結果を取得します"
   ]
  },
  {
   "cell_type": "code",
   "execution_count": 33,
   "metadata": {},
   "outputs": [
    {
     "name": "stdout",
     "output_type": "stream",
     "text": [
      "{\n",
      "    \"id\": \"ceeb9619-0cb5-48fb-9671-1224077b51dd\",\n",
      "    \"model\": \"gpt-35-turbo\",\n",
      "    \"created\": 1689254837,\n",
      "    \"object\": \"chat.completion\",\n",
      "    \"choices\": [\n",
      "        {\n",
      "            \"index\": 0,\n",
      "            \"messages\": [\n",
      "                {\n",
      "                    \"index\": 0,\n",
      "                    \"role\": \"tool\",\n",
      "                    \"content\": \"{\\\"citations\\\": [], \\\"intent\\\": \\\"[\\\\\\\"What are the differences between Azure Machine Learning and Azure Cognitive Services?\\\\\\\"]\\\"}\",\n",
      "                    \"end_turn\": false\n",
      "                },\n",
      "                {\n",
      "                    \"index\": 1,\n",
      "                    \"role\": \"assistant\",\n",
      "                    \"content\": \"Azure Machine Learning is a cloud-based service that enables you to build, train, and deploy machine learning models. Azure Cognitive Services, on the other hand, provides pre-built APIs that enable you to add intelligent features to your applications without requiring any machine learning expertise. While Azure Machine Learning is focused on building custom machine learning models, Azure Cognitive Services is focused on providing pre-built APIs for common use cases such as image and speech recognition, language understanding, and more. [doc1]\",\n",
      "                    \"end_turn\": true\n",
      "                }\n",
      "            ]\n",
      "        }\n",
      "    ]\n",
      "}\n"
     ]
    }
   ],
   "source": [
    "response = requests.post(url, headers=headers, json=data)\n",
    "\n",
    "print(json.dumps(response.json(),indent=4))"
   ]
  }
 ],
 "metadata": {
  "kernelspec": {
   "display_name": ".venv",
   "language": "python",
   "name": "python3"
  },
  "language_info": {
   "codemirror_mode": {
    "name": "ipython",
    "version": 3
   },
   "file_extension": ".py",
   "mimetype": "text/x-python",
   "name": "python",
   "nbconvert_exporter": "python",
   "pygments_lexer": "ipython3",
   "version": "3.10.12"
  },
  "orig_nbformat": 4
 },
 "nbformat": 4,
 "nbformat_minor": 2
}
