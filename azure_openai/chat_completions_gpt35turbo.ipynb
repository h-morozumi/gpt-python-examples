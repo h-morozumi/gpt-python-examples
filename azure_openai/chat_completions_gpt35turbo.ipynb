{
 "cells": [
  {
   "cell_type": "markdown",
   "metadata": {},
   "source": [
    "# Azure OpenAI のサンプル\n",
    "\n",
    "[クイック スタート - Azure OpenAI Service で ChatGPT と GPT-4 の使用を開始する - Azure OpenAI Service | Microsoft Learn](https://learn.microsoft.com/ja-jp/azure/cognitive-services/openai/chatgpt-quickstart?tabs=command-line&pivots=programming-language-python)\n",
    "\n",
    "事前に `Azure` のサブスクリプションと `Azure OpenAI Service` の申請が必要。\n",
    "\n",
    "Azure OpenAI Service へのアクセスを申請するには[こちら](https://aka.ms/oai/access)のフォームに入力してください。\n",
    "\n",
    "GPT-4の申請は[こちら](https://aka.ms/oai/get-gpt4)からアクセスを申請できます。"
   ]
  },
  {
   "cell_type": "code",
   "execution_count": 1,
   "metadata": {},
   "outputs": [],
   "source": [
    "import openai\n",
    "import os"
   ]
  },
  {
   "cell_type": "markdown",
   "metadata": {},
   "source": [
    "## 環境変数に値を設定"
   ]
  },
  {
   "cell_type": "code",
   "execution_count": 2,
   "metadata": {},
   "outputs": [],
   "source": [
    "os.environ[\"AZURE_OPENAI_KEY\"] = input(\"Enter your API key: \")\n",
    "os.environ[\"AZURE_OPENAI_ENDPOINT\"] = input(\"Enter your endpoint: \")\n",
    "deployment_name = input(\"Enter your deployment name: \")"
   ]
  },
  {
   "cell_type": "markdown",
   "metadata": {},
   "source": [
    "## Azure OpenAI の設定\n",
    "\n",
    "`エンドポイント` と `キー` は `リソース管理` セクションの `キーとエンドポイント` から取得してください。\n",
    "\n",
    "`engine` には モデルのデプロイ時に選択した `デプロイ名` を設定してださい。\n",
    "\n",
    "`Chat Completion API` で指定できるモデルは、 `gpt-35-turbo-0301`,`gtp-35-turbo-0613`,`gpt-35-turbo-16k-0613` になります。"
   ]
  },
  {
   "cell_type": "code",
   "execution_count": 4,
   "metadata": {},
   "outputs": [
    {
     "name": "stdout",
     "output_type": "stream",
     "text": [
      "{\n",
      "  \"id\": \"chatcmpl-7c2tQc10QH4LPObihG9FSHwlVsdr2\",\n",
      "  \"object\": \"chat.completion\",\n",
      "  \"created\": 1689301940,\n",
      "  \"model\": \"gpt-35-turbo\",\n",
      "  \"choices\": [\n",
      "    {\n",
      "      \"index\": 0,\n",
      "      \"finish_reason\": \"stop\",\n",
      "      \"message\": {\n",
      "        \"role\": \"assistant\",\n",
      "        \"content\": \"Yes, many Azure Cognitive Services support customer managed keys, including Azure Cognitive Services Language Understanding (LUIS), Azure Cognitive Services Text Analytics, Azure Cognitive Services Speech Services, Azure Cognitive Services Translator, and more. You can check the specific documentation for each service to see if they support customer managed keys.\"\n",
      "      }\n",
      "    }\n",
      "  ],\n",
      "  \"usage\": {\n",
      "    \"completion_tokens\": 59,\n",
      "    \"prompt_tokens\": 59,\n",
      "    \"total_tokens\": 118\n",
      "  }\n",
      "}\n"
     ]
    }
   ],
   "source": [
    "openai.api_key = os.getenv(\"AZURE_OPENAI_KEY\")\n",
    "openai.api_base = os.getenv(\"AZURE_OPENAI_ENDPOINT\") # your endpoint should look like the following https://YOUR_RESOURCE_NAME.openai.azure.com/\n",
    "openai.api_type = 'azure'\n",
    "openai.api_version = '2023-05-15' # this may change in the future\n",
    "\n",
    "response = openai.ChatCompletion.create(\n",
    "  deployment_id = deployment_name,\n",
    "  messages = [\n",
    "        {\"role\": \"system\", \"content\": \"You are a helpful assistant.\"},\n",
    "        {\"role\": \"user\", \"content\": \"Does Azure OpenAI support customer managed keys?\"},\n",
    "        {\"role\": \"assistant\", \"content\": \"Yes, customer managed keys are supported by Azure OpenAI.\"},\n",
    "        {\"role\": \"user\", \"content\": \"Do other Azure Cognitive Services support this too?\"}\n",
    "    ]\n",
    ")\n",
    "\n",
    "print(response)"
   ]
  },
  {
   "cell_type": "markdown",
   "metadata": {},
   "source": [
    "## メッセージを取得する\n"
   ]
  },
  {
   "cell_type": "code",
   "execution_count": 5,
   "metadata": {},
   "outputs": [
    {
     "name": "stdout",
     "output_type": "stream",
     "text": [
      "Yes, many Azure Cognitive Services support customer managed keys, including Azure Cognitive Services Language Understanding (LUIS), Azure Cognitive Services Text Analytics, Azure Cognitive Services Speech Services, Azure Cognitive Services Translator, and more. You can check the specific documentation for each service to see if they support customer managed keys.\n"
     ]
    }
   ],
   "source": [
    "print(response['choices'][0]['message']['content'])"
   ]
  }
 ],
 "metadata": {
  "kernelspec": {
   "display_name": ".venv",
   "language": "python",
   "name": "python3"
  },
  "language_info": {
   "codemirror_mode": {
    "name": "ipython",
    "version": 3
   },
   "file_extension": ".py",
   "mimetype": "text/x-python",
   "name": "python",
   "nbconvert_exporter": "python",
   "pygments_lexer": "ipython3",
   "version": "3.10.12"
  },
  "orig_nbformat": 4
 },
 "nbformat": 4,
 "nbformat_minor": 2
}
