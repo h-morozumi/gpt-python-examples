{
 "cells": [
  {
   "cell_type": "markdown",
   "metadata": {},
   "source": [
    "# Azure OpenAI のサンプル\n",
    "\n",
    "[クイック スタート - Azure OpenAI Service で ChatGPT と GPT-4 の使用を開始する - Azure OpenAI Service | Microsoft Learn](https://learn.microsoft.com/ja-jp/azure/cognitive-services/openai/chatgpt-quickstart?tabs=command-line&pivots=programming-language-python)\n",
    "\n",
    "事前に `Azure` のサブスクリプションと `Azure OpenAI Service` の申請が必要。\n",
    "\n",
    "Azure OpenAI Service へのアクセスを申請するには[こちら](https://customervoice.microsoft.com/Pages/ResponsePage.aspx?id=v4j5cvGGr0GRqy180BHbR7en2Ais5pxKtso_Pz4b1_xUOFA5Qk1UWDRBMjg0WFhPMkIzTzhKQ1dWNyQlQCN0PWcu)のフォームに入力してください。\n",
    "\n",
    "GPT-4の申請は[こちら](https://customervoice.microsoft.com/Pages/ResponsePage.aspx?id=v4j5cvGGr0GRqy180BHbR7en2Ais5pxKtso_Pz4b1_xURjE4QlhVUERGQ1NXOTlNT0w1NldTWjJCMSQlQCN0PWcu)からアクセスを申請できます。"
   ]
  },
  {
   "cell_type": "code",
   "execution_count": 9,
   "metadata": {},
   "outputs": [],
   "source": [
    "import openai"
   ]
  },
  {
   "cell_type": "markdown",
   "metadata": {},
   "source": [
    "## Azure OpenAI の設定\n",
    "\n",
    "`エンドポイント` と `キー` は `リソース管理` セクションの `キーとエンドポイント` から取得してください。\n",
    "\n",
    "`engine` には モデルのデプロイ時に選択した `デプロイ名` を設定してださい。\n",
    "\n",
    "`Chat Completion API` で指定できるモデルは、 `gpt-35-turbo-0301`,`gtp-35-turbo-0613`,`gpt-35-turbo-16k-0613` になります。"
   ]
  },
  {
   "cell_type": "code",
   "execution_count": 10,
   "metadata": {},
   "outputs": [
    {
     "name": "stdout",
     "output_type": "stream",
     "text": [
      "{\n",
      "  \"id\": \"chatcmpl-7bgmiBcA3o6mi3qYRyDXsDina9Xp0\",\n",
      "  \"object\": \"chat.completion\",\n",
      "  \"created\": 1689216956,\n",
      "  \"model\": \"gpt-35-turbo\",\n",
      "  \"choices\": [\n",
      "    {\n",
      "      \"index\": 0,\n",
      "      \"finish_reason\": \"stop\",\n",
      "      \"message\": {\n",
      "        \"role\": \"assistant\",\n",
      "        \"content\": \"Yes, many Azure Cognitive Services support customer managed keys. For example, Azure Computer Vision, Azure Speech Services, Azure Translator Text, and Azure Text Analytics all support customer managed keys.\"\n",
      "      }\n",
      "    }\n",
      "  ],\n",
      "  \"usage\": {\n",
      "    \"completion_tokens\": 36,\n",
      "    \"prompt_tokens\": 59,\n",
      "    \"total_tokens\": 95\n",
      "  }\n",
      "}\n"
     ]
    }
   ],
   "source": [
    "openai.api_type = \"azure\"\n",
    "openai.api_version = \"2023-05-15\"\n",
    "openai.api_base = input(\"Enter your Azure API endpoint: \")\n",
    "openai.api_key = input(\"Enter your Azure OpenAI API key: \")\n",
    "\n",
    "engine = input(\"Enter your engine: \")\n",
    "\n",
    "response = openai.ChatCompletion.create(\n",
    "  engine = engine,\n",
    "  messages = [\n",
    "        {\"role\": \"system\", \"content\": \"You are a helpful assistant.\"},\n",
    "        {\"role\": \"user\", \"content\": \"Does Azure OpenAI support customer managed keys?\"},\n",
    "        {\"role\": \"assistant\", \"content\": \"Yes, customer managed keys are supported by Azure OpenAI.\"},\n",
    "        {\"role\": \"user\", \"content\": \"Do other Azure Cognitive Services support this too?\"}\n",
    "    ]\n",
    ")\n",
    "\n",
    "print(response)"
   ]
  },
  {
   "cell_type": "markdown",
   "metadata": {},
   "source": [
    "## メッセージを取得する\n"
   ]
  },
  {
   "cell_type": "code",
   "execution_count": 11,
   "metadata": {},
   "outputs": [
    {
     "name": "stdout",
     "output_type": "stream",
     "text": [
      "Yes, many Azure Cognitive Services support customer managed keys. For example, Azure Computer Vision, Azure Speech Services, Azure Translator Text, and Azure Text Analytics all support customer managed keys.\n"
     ]
    }
   ],
   "source": [
    "print(response['choices'][0]['message']['content'])"
   ]
  }
 ],
 "metadata": {
  "kernelspec": {
   "display_name": ".venv",
   "language": "python",
   "name": "python3"
  },
  "language_info": {
   "codemirror_mode": {
    "name": "ipython",
    "version": 3
   },
   "file_extension": ".py",
   "mimetype": "text/x-python",
   "name": "python",
   "nbconvert_exporter": "python",
   "pygments_lexer": "ipython3",
   "version": "3.10.12"
  },
  "orig_nbformat": 4
 },
 "nbformat": 4,
 "nbformat_minor": 2
}
