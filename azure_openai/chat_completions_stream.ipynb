{
 "cells": [
  {
   "cell_type": "markdown",
   "metadata": {},
   "source": [
    "# Stream のサンプル\n"
   ]
  },
  {
   "cell_type": "code",
   "execution_count": 8,
   "metadata": {},
   "outputs": [],
   "source": [
    "import openai\n",
    "import os"
   ]
  },
  {
   "cell_type": "code",
   "execution_count": 9,
   "metadata": {},
   "outputs": [],
   "source": [
    "os.environ[\"AZURE_OPENAI_KEY\"] = input(\"Enter your API key: \")\n",
    "os.environ[\"AZURE_OPENAI_ENDPOINT\"] = input(\"Enter your endpoint: \")\n",
    "deployment_name = input(\"Enter your deployment name: \")"
   ]
  },
  {
   "cell_type": "markdown",
   "metadata": {},
   "source": [
    "## 処理を実行する\n",
    "\n",
    "`stream = True` を設定する事でストリームで表示します。"
   ]
  },
  {
   "cell_type": "code",
   "execution_count": 12,
   "metadata": {},
   "outputs": [
    {
     "name": "stdout",
     "output_type": "stream",
     "text": [
      "1.\n",
      "クラウドには宇宙を思わせる\n",
      "無限の可能性がある\n",
      "情報を飛ばし、共有し\n",
      "自由に繋がる世界が広がる\n",
      "\n",
      "2.\n",
      "クラウドは空気のようにあたりまえ\n",
      "でも、中身を見れば奇跡の技術\n",
      "フェイスレスであっても\n",
      "心を繋ぐ力がある\n",
      "\n",
      "3.\n",
      "クラウドには自由がある\n",
      "空のように重力はなく\n",
      "情報と人が飛び回り、繋がり\n",
      "互いの枠を超えた未来が広がる\n",
      "\n",
      "4.\n",
      "クラウドには革新的な力がある\n",
      "人々をより近く、より速く\n",
      "よりパワフルにつなぐ\n",
      "これからの未来を担う技術だ\n",
      "\n",
      "5.\n",
      "クラウドには未来が詰まっている\n",
      "限りなく続く情報空間\n",
      "一人ひとりの思いや想いが\n",
      "世界中を変える力を生むだろう"
     ]
    }
   ],
   "source": [
    "openai.api_key = os.getenv(\"AZURE_OPENAI_KEY\")\n",
    "openai.api_base = os.getenv(\"AZURE_OPENAI_ENDPOINT\") # your endpoint should look like the following https://YOUR_RESOURCE_NAME.openai.azure.com/\n",
    "openai.api_type = 'azure'\n",
    "openai.api_version = '2023-05-15' # this may change in the future\n",
    "\n",
    "response = openai.ChatCompletion.create(\n",
    "  deployment_id = deployment_name,\n",
    "  stream = True,\n",
    "  messages = [\n",
    "        {\"role\": \"user\", \"content\": \"クラウドについてのポエムを5つ作成してください\"}\n",
    "    ]\n",
    ")\n",
    "for chunk in response:\n",
    "    next = chunk['choices'][0]['delta'].get('content', '')\n",
    "    print(next, end = '')"
   ]
  }
 ],
 "metadata": {
  "kernelspec": {
   "display_name": ".venv",
   "language": "python",
   "name": "python3"
  },
  "language_info": {
   "codemirror_mode": {
    "name": "ipython",
    "version": 3
   },
   "file_extension": ".py",
   "mimetype": "text/x-python",
   "name": "python",
   "nbconvert_exporter": "python",
   "pygments_lexer": "ipython3",
   "version": "3.10.12"
  },
  "orig_nbformat": 4
 },
 "nbformat": 4,
 "nbformat_minor": 2
}
