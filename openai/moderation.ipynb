{
 "cells": [
  {
   "cell_type": "markdown",
   "metadata": {},
   "source": [
    "# Moderation API のサンプル\n",
    "\n",
    "[Moderation - OpenAI API](https://platform.openai.com/docs/guides/moderation/overview)"
   ]
  },
  {
   "cell_type": "code",
   "execution_count": 1,
   "metadata": {},
   "outputs": [],
   "source": [
    "import openai\n",
    "import os"
   ]
  },
  {
   "cell_type": "code",
   "execution_count": 2,
   "metadata": {},
   "outputs": [],
   "source": [
    "os.environ[\"OPENAI_API_KEY\"] = input(\"Enter your API key: \")\n",
    "openai.api_key = os.getenv(\"OPENAI_API_KEY\")"
   ]
  },
  {
   "cell_type": "markdown",
   "metadata": {},
   "source": [
    "## Moderationの実行\n",
    "\n",
    "`flagged` が `true` だとコンテンツフィルタに引っかかったことを示している。\n",
    "\n",
    "`Azure` の `Content filter` よりも `moderation API` の方が判定が甘い気がする。"
   ]
  },
  {
   "cell_type": "code",
   "execution_count": 9,
   "metadata": {},
   "outputs": [
    {
     "name": "stdout",
     "output_type": "stream",
     "text": [
      "{\n",
      "  \"id\": \"modr-7c9aNa1ppqdnM23M0cZxjH6bxDAtT\",\n",
      "  \"model\": \"text-moderation-005\",\n",
      "  \"results\": [\n",
      "    {\n",
      "      \"flagged\": true,\n",
      "      \"categories\": {\n",
      "        \"sexual\": false,\n",
      "        \"hate\": false,\n",
      "        \"harassment\": false,\n",
      "        \"self-harm\": true,\n",
      "        \"sexual/minors\": false,\n",
      "        \"hate/threatening\": false,\n",
      "        \"violence/graphic\": false,\n",
      "        \"self-harm/intent\": false,\n",
      "        \"self-harm/instructions\": false,\n",
      "        \"harassment/threatening\": false,\n",
      "        \"violence\": false\n",
      "      },\n",
      "      \"category_scores\": {\n",
      "        \"sexual\": 7.4062945e-07,\n",
      "        \"hate\": 5.2618674e-08,\n",
      "        \"harassment\": 2.2299304e-05,\n",
      "        \"self-harm\": 0.41497046,\n",
      "        \"sexual/minors\": 8.573847e-10,\n",
      "        \"hate/threatening\": 2.1162307e-07,\n",
      "        \"violence/graphic\": 0.042769045,\n",
      "        \"self-harm/intent\": 1.4715364e-06,\n",
      "        \"self-harm/instructions\": 1.6935325e-09,\n",
      "        \"harassment/threatening\": 3.8267117e-05,\n",
      "        \"violence\": 0.22747742\n",
      "      }\n",
      "    }\n",
      "  ]\n",
      "}\n"
     ]
    }
   ],
   "source": [
    "response = openai.Moderation.create(\n",
    "    input=\"A 51-year-old man was found dead in his car. There were blood stains on the dashboard and windscreen. At autopsy, a deep, oblique, long incised injury was found on the front of the neck. It turns out that he died by suicide.\"\n",
    ")\n",
    "print(response)"
   ]
  }
 ],
 "metadata": {
  "kernelspec": {
   "display_name": ".venv",
   "language": "python",
   "name": "python3"
  },
  "language_info": {
   "codemirror_mode": {
    "name": "ipython",
    "version": 3
   },
   "file_extension": ".py",
   "mimetype": "text/x-python",
   "name": "python",
   "nbconvert_exporter": "python",
   "pygments_lexer": "ipython3",
   "version": "3.10.12"
  },
  "orig_nbformat": 4
 },
 "nbformat": 4,
 "nbformat_minor": 2
}
